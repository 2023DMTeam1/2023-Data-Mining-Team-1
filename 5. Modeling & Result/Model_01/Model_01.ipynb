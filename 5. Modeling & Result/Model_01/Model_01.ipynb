{
 "cells": [
  {
   "cell_type": "code",
   "execution_count": 1,
   "metadata": {
    "id": "4JeGWanRn9aP"
   },
   "outputs": [],
   "source": [
    "import pandas as pd\n",
    "df = pd.read_csv(\"final.csv\",encoding='UTF8')"
   ]
  },
  {
   "cell_type": "code",
   "execution_count": 2,
   "metadata": {
    "colab": {
     "base_uri": "https://localhost:8080/",
     "height": 693
    },
    "id": "XfiqNOlzy1rT",
    "outputId": "edccf56d-1f67-44b7-dbc9-855fc1c1d8d5"
   },
   "outputs": [
    {
     "data": {
      "text/html": [
       "<div>\n",
       "<style scoped>\n",
       "    .dataframe tbody tr th:only-of-type {\n",
       "        vertical-align: middle;\n",
       "    }\n",
       "\n",
       "    .dataframe tbody tr th {\n",
       "        vertical-align: top;\n",
       "    }\n",
       "\n",
       "    .dataframe thead th {\n",
       "        text-align: right;\n",
       "    }\n",
       "</style>\n",
       "<table border=\"1\" class=\"dataframe\">\n",
       "  <thead>\n",
       "    <tr style=\"text-align: right;\">\n",
       "      <th></th>\n",
       "      <th>화재발생일시</th>\n",
       "      <th>화재발생_연</th>\n",
       "      <th>화재발생_월</th>\n",
       "      <th>화재발생_일</th>\n",
       "      <th>주말여부</th>\n",
       "      <th>화재발생시간대</th>\n",
       "      <th>시군구명</th>\n",
       "      <th>읍면동명</th>\n",
       "      <th>발화지점</th>\n",
       "      <th>날씨</th>\n",
       "      <th>...</th>\n",
       "      <th>출동소요시간</th>\n",
       "      <th>현장소방서거리</th>\n",
       "      <th>현장안전센터거리</th>\n",
       "      <th>현장소방지역대거리</th>\n",
       "      <th>전체인력수합계</th>\n",
       "      <th>화재진압시간</th>\n",
       "      <th>동원장비수</th>\n",
       "      <th>인명피해수</th>\n",
       "      <th>재산피해금액</th>\n",
       "      <th>피해면적</th>\n",
       "    </tr>\n",
       "  </thead>\n",
       "  <tbody>\n",
       "    <tr>\n",
       "      <th>0</th>\n",
       "      <td>2011-01-22 23:35:00</td>\n",
       "      <td>2011</td>\n",
       "      <td>1</td>\n",
       "      <td>22</td>\n",
       "      <td>1</td>\n",
       "      <td>21~24</td>\n",
       "      <td>강릉시</td>\n",
       "      <td>죽헌동</td>\n",
       "      <td>산정상</td>\n",
       "      <td>맑음</td>\n",
       "      <td>...</td>\n",
       "      <td>1700</td>\n",
       "      <td>9</td>\n",
       "      <td>9</td>\n",
       "      <td>0.0</td>\n",
       "      <td>37</td>\n",
       "      <td>1800</td>\n",
       "      <td>8</td>\n",
       "      <td>0</td>\n",
       "      <td>0</td>\n",
       "      <td>0.30</td>\n",
       "    </tr>\n",
       "    <tr>\n",
       "      <th>1</th>\n",
       "      <td>2011-01-31 18:13:00</td>\n",
       "      <td>2011</td>\n",
       "      <td>1</td>\n",
       "      <td>31</td>\n",
       "      <td>0</td>\n",
       "      <td>18~21</td>\n",
       "      <td>양양군</td>\n",
       "      <td>현남면</td>\n",
       "      <td>산아래</td>\n",
       "      <td>맑음</td>\n",
       "      <td>...</td>\n",
       "      <td>1615</td>\n",
       "      <td>43</td>\n",
       "      <td>13</td>\n",
       "      <td>0.0</td>\n",
       "      <td>1872</td>\n",
       "      <td>155952</td>\n",
       "      <td>71</td>\n",
       "      <td>0</td>\n",
       "      <td>184330</td>\n",
       "      <td>30.00</td>\n",
       "    </tr>\n",
       "    <tr>\n",
       "      <th>2</th>\n",
       "      <td>2011-02-11 17:50:00</td>\n",
       "      <td>2011</td>\n",
       "      <td>2</td>\n",
       "      <td>11</td>\n",
       "      <td>0</td>\n",
       "      <td>15~18</td>\n",
       "      <td>홍천군</td>\n",
       "      <td>내촌면</td>\n",
       "      <td>산중턱</td>\n",
       "      <td>구름많음</td>\n",
       "      <td>...</td>\n",
       "      <td>2240</td>\n",
       "      <td>37</td>\n",
       "      <td>37</td>\n",
       "      <td>7.0</td>\n",
       "      <td>171</td>\n",
       "      <td>20500</td>\n",
       "      <td>9</td>\n",
       "      <td>0</td>\n",
       "      <td>4864</td>\n",
       "      <td>0.30</td>\n",
       "    </tr>\n",
       "    <tr>\n",
       "      <th>3</th>\n",
       "      <td>2011-02-12 06:18:00</td>\n",
       "      <td>2011</td>\n",
       "      <td>2</td>\n",
       "      <td>12</td>\n",
       "      <td>1</td>\n",
       "      <td>3~6</td>\n",
       "      <td>원주시</td>\n",
       "      <td>귀래면</td>\n",
       "      <td>산중턱</td>\n",
       "      <td>구름많음</td>\n",
       "      <td>...</td>\n",
       "      <td>2019</td>\n",
       "      <td>20</td>\n",
       "      <td>20</td>\n",
       "      <td>8.0</td>\n",
       "      <td>94</td>\n",
       "      <td>35009</td>\n",
       "      <td>9</td>\n",
       "      <td>0</td>\n",
       "      <td>50</td>\n",
       "      <td>0.30</td>\n",
       "    </tr>\n",
       "    <tr>\n",
       "      <th>4</th>\n",
       "      <td>2011-02-26 16:42:00</td>\n",
       "      <td>2011</td>\n",
       "      <td>2</td>\n",
       "      <td>26</td>\n",
       "      <td>1</td>\n",
       "      <td>15~18</td>\n",
       "      <td>원주시</td>\n",
       "      <td>태장동</td>\n",
       "      <td>산정상</td>\n",
       "      <td>맑음</td>\n",
       "      <td>...</td>\n",
       "      <td>508</td>\n",
       "      <td>8</td>\n",
       "      <td>2</td>\n",
       "      <td>0.0</td>\n",
       "      <td>46</td>\n",
       "      <td>3825</td>\n",
       "      <td>8</td>\n",
       "      <td>0</td>\n",
       "      <td>440</td>\n",
       "      <td>0.03</td>\n",
       "    </tr>\n",
       "    <tr>\n",
       "      <th>...</th>\n",
       "      <td>...</td>\n",
       "      <td>...</td>\n",
       "      <td>...</td>\n",
       "      <td>...</td>\n",
       "      <td>...</td>\n",
       "      <td>...</td>\n",
       "      <td>...</td>\n",
       "      <td>...</td>\n",
       "      <td>...</td>\n",
       "      <td>...</td>\n",
       "      <td>...</td>\n",
       "      <td>...</td>\n",
       "      <td>...</td>\n",
       "      <td>...</td>\n",
       "      <td>...</td>\n",
       "      <td>...</td>\n",
       "      <td>...</td>\n",
       "      <td>...</td>\n",
       "      <td>...</td>\n",
       "      <td>...</td>\n",
       "      <td>...</td>\n",
       "    </tr>\n",
       "    <tr>\n",
       "      <th>534</th>\n",
       "      <td>2021-05-09 13:43:01</td>\n",
       "      <td>2021</td>\n",
       "      <td>5</td>\n",
       "      <td>9</td>\n",
       "      <td>1</td>\n",
       "      <td>12~15</td>\n",
       "      <td>철원군</td>\n",
       "      <td>철원읍</td>\n",
       "      <td>산중턱</td>\n",
       "      <td>맑음</td>\n",
       "      <td>...</td>\n",
       "      <td>801</td>\n",
       "      <td>16</td>\n",
       "      <td>7</td>\n",
       "      <td>0.0</td>\n",
       "      <td>60</td>\n",
       "      <td>2915</td>\n",
       "      <td>12</td>\n",
       "      <td>0</td>\n",
       "      <td>0</td>\n",
       "      <td>0.03</td>\n",
       "    </tr>\n",
       "    <tr>\n",
       "      <th>535</th>\n",
       "      <td>2021-05-09 17:44:49</td>\n",
       "      <td>2021</td>\n",
       "      <td>5</td>\n",
       "      <td>9</td>\n",
       "      <td>1</td>\n",
       "      <td>15~18</td>\n",
       "      <td>철원군</td>\n",
       "      <td>철원읍</td>\n",
       "      <td>산정상</td>\n",
       "      <td>맑음</td>\n",
       "      <td>...</td>\n",
       "      <td>347</td>\n",
       "      <td>12</td>\n",
       "      <td>1</td>\n",
       "      <td>0.0</td>\n",
       "      <td>67</td>\n",
       "      <td>4529</td>\n",
       "      <td>13</td>\n",
       "      <td>0</td>\n",
       "      <td>0</td>\n",
       "      <td>0.01</td>\n",
       "    </tr>\n",
       "    <tr>\n",
       "      <th>536</th>\n",
       "      <td>2021-05-13 15:37:05</td>\n",
       "      <td>2021</td>\n",
       "      <td>5</td>\n",
       "      <td>13</td>\n",
       "      <td>0</td>\n",
       "      <td>15~18</td>\n",
       "      <td>태백시</td>\n",
       "      <td>하사미동</td>\n",
       "      <td>산중턱</td>\n",
       "      <td>맑음</td>\n",
       "      <td>...</td>\n",
       "      <td>2121</td>\n",
       "      <td>20</td>\n",
       "      <td>17</td>\n",
       "      <td>0.0</td>\n",
       "      <td>144</td>\n",
       "      <td>43459</td>\n",
       "      <td>18</td>\n",
       "      <td>0</td>\n",
       "      <td>0</td>\n",
       "      <td>1.20</td>\n",
       "    </tr>\n",
       "    <tr>\n",
       "      <th>537</th>\n",
       "      <td>2021-06-07 15:11:39</td>\n",
       "      <td>2021</td>\n",
       "      <td>6</td>\n",
       "      <td>7</td>\n",
       "      <td>0</td>\n",
       "      <td>15~18</td>\n",
       "      <td>강릉시</td>\n",
       "      <td>주문진읍</td>\n",
       "      <td>산중턱</td>\n",
       "      <td>맑음</td>\n",
       "      <td>...</td>\n",
       "      <td>1344</td>\n",
       "      <td>21</td>\n",
       "      <td>6</td>\n",
       "      <td>0.0</td>\n",
       "      <td>50</td>\n",
       "      <td>12539</td>\n",
       "      <td>11</td>\n",
       "      <td>0</td>\n",
       "      <td>223</td>\n",
       "      <td>0.01</td>\n",
       "    </tr>\n",
       "    <tr>\n",
       "      <th>538</th>\n",
       "      <td>2021-06-08 14:52:46</td>\n",
       "      <td>2021</td>\n",
       "      <td>6</td>\n",
       "      <td>8</td>\n",
       "      <td>0</td>\n",
       "      <td>12~15</td>\n",
       "      <td>홍천군</td>\n",
       "      <td>내촌면</td>\n",
       "      <td>산정상</td>\n",
       "      <td>맑음</td>\n",
       "      <td>...</td>\n",
       "      <td>935</td>\n",
       "      <td>26</td>\n",
       "      <td>0</td>\n",
       "      <td>5.0</td>\n",
       "      <td>48</td>\n",
       "      <td>12515</td>\n",
       "      <td>6</td>\n",
       "      <td>0</td>\n",
       "      <td>0</td>\n",
       "      <td>0.04</td>\n",
       "    </tr>\n",
       "  </tbody>\n",
       "</table>\n",
       "<p>539 rows × 27 columns</p>\n",
       "</div>"
      ],
      "text/plain": [
       "                  화재발생일시  화재발생_연  화재발생_월  화재발생_일  주말여부 화재발생시간대 시군구명  읍면동명  \\\n",
       "0    2011-01-22 23:35:00    2011       1      22     1   21~24  강릉시   죽헌동   \n",
       "1    2011-01-31 18:13:00    2011       1      31     0   18~21  양양군   현남면   \n",
       "2    2011-02-11 17:50:00    2011       2      11     0   15~18  홍천군   내촌면   \n",
       "3    2011-02-12 06:18:00    2011       2      12     1     3~6  원주시   귀래면   \n",
       "4    2011-02-26 16:42:00    2011       2      26     1   15~18  원주시   태장동   \n",
       "..                   ...     ...     ...     ...   ...     ...  ...   ...   \n",
       "534  2021-05-09 13:43:01    2021       5       9     1   12~15  철원군   철원읍   \n",
       "535  2021-05-09 17:44:49    2021       5       9     1   15~18  철원군   철원읍   \n",
       "536  2021-05-13 15:37:05    2021       5      13     0   15~18  태백시  하사미동   \n",
       "537  2021-06-07 15:11:39    2021       6       7     0   15~18  강릉시  주문진읍   \n",
       "538  2021-06-08 14:52:46    2021       6       8     0   12~15  홍천군   내촌면   \n",
       "\n",
       "    발화지점    날씨  ...  출동소요시간  현장소방서거리 현장안전센터거리 현장소방지역대거리 전체인력수합계  화재진압시간 동원장비수  \\\n",
       "0    산정상    맑음  ...    1700        9        9       0.0      37    1800     8   \n",
       "1    산아래    맑음  ...    1615       43       13       0.0    1872  155952    71   \n",
       "2    산중턱  구름많음  ...    2240       37       37       7.0     171   20500     9   \n",
       "3    산중턱  구름많음  ...    2019       20       20       8.0      94   35009     9   \n",
       "4    산정상    맑음  ...     508        8        2       0.0      46    3825     8   \n",
       "..   ...   ...  ...     ...      ...      ...       ...     ...     ...   ...   \n",
       "534  산중턱    맑음  ...     801       16        7       0.0      60    2915    12   \n",
       "535  산정상    맑음  ...     347       12        1       0.0      67    4529    13   \n",
       "536  산중턱    맑음  ...    2121       20       17       0.0     144   43459    18   \n",
       "537  산중턱    맑음  ...    1344       21        6       0.0      50   12539    11   \n",
       "538  산정상    맑음  ...     935       26        0       5.0      48   12515     6   \n",
       "\n",
       "     인명피해수  재산피해금액   피해면적  \n",
       "0        0       0   0.30  \n",
       "1        0  184330  30.00  \n",
       "2        0    4864   0.30  \n",
       "3        0      50   0.30  \n",
       "4        0     440   0.03  \n",
       "..     ...     ...    ...  \n",
       "534      0       0   0.03  \n",
       "535      0       0   0.01  \n",
       "536      0       0   1.20  \n",
       "537      0     223   0.01  \n",
       "538      0       0   0.04  \n",
       "\n",
       "[539 rows x 27 columns]"
      ]
     },
     "execution_count": 2,
     "metadata": {},
     "output_type": "execute_result"
    }
   ],
   "source": [
    "df"
   ]
  },
  {
   "cell_type": "code",
   "execution_count": 3,
   "metadata": {
    "colab": {
     "base_uri": "https://localhost:8080/"
    },
    "id": "DId92c9Dy7-G",
    "outputId": "34fcc470-1a0d-4dad-f5dd-072456175cea"
   },
   "outputs": [
    {
     "data": {
      "text/plain": [
       "(539, 27)"
      ]
     },
     "execution_count": 3,
     "metadata": {},
     "output_type": "execute_result"
    }
   ],
   "source": [
    "df.shape"
   ]
  },
  {
   "cell_type": "code",
   "execution_count": 4,
   "metadata": {
    "id": "zYRK-FBu0Rqn"
   },
   "outputs": [],
   "source": [
    "data = df.drop(['화재발생일시','화재발생_연','화재발생_일','읍면동명','특보내용','소방서명','서센터명','소방지역대명','출동소요시간','현장소방서거리','현장안전센터거리','현장소방지역대거리','전체인력수합계','화재진압시간','동원장비수','인명피해수','재산피해금액'],axis=1)"
   ]
  },
  {
   "cell_type": "code",
   "execution_count": 5,
   "metadata": {
    "colab": {
     "base_uri": "https://localhost:8080/",
     "height": 424
    },
    "id": "TlMho0hC918Q",
    "outputId": "8ed862c1-7830-4fd0-e318-23512d02705f"
   },
   "outputs": [
    {
     "data": {
      "text/html": [
       "<div>\n",
       "<style scoped>\n",
       "    .dataframe tbody tr th:only-of-type {\n",
       "        vertical-align: middle;\n",
       "    }\n",
       "\n",
       "    .dataframe tbody tr th {\n",
       "        vertical-align: top;\n",
       "    }\n",
       "\n",
       "    .dataframe thead th {\n",
       "        text-align: right;\n",
       "    }\n",
       "</style>\n",
       "<table border=\"1\" class=\"dataframe\">\n",
       "  <thead>\n",
       "    <tr style=\"text-align: right;\">\n",
       "      <th></th>\n",
       "      <th>화재발생_월</th>\n",
       "      <th>주말여부</th>\n",
       "      <th>화재발생시간대</th>\n",
       "      <th>시군구명</th>\n",
       "      <th>발화지점</th>\n",
       "      <th>날씨</th>\n",
       "      <th>온도</th>\n",
       "      <th>습도</th>\n",
       "      <th>발화원인종합</th>\n",
       "      <th>피해면적</th>\n",
       "    </tr>\n",
       "  </thead>\n",
       "  <tbody>\n",
       "    <tr>\n",
       "      <th>0</th>\n",
       "      <td>1</td>\n",
       "      <td>1</td>\n",
       "      <td>21~24</td>\n",
       "      <td>강릉시</td>\n",
       "      <td>산정상</td>\n",
       "      <td>맑음</td>\n",
       "      <td>-1</td>\n",
       "      <td>30</td>\n",
       "      <td>방화 및 방화의심</td>\n",
       "      <td>0.30</td>\n",
       "    </tr>\n",
       "    <tr>\n",
       "      <th>1</th>\n",
       "      <td>1</td>\n",
       "      <td>0</td>\n",
       "      <td>18~21</td>\n",
       "      <td>양양군</td>\n",
       "      <td>산아래</td>\n",
       "      <td>맑음</td>\n",
       "      <td>1</td>\n",
       "      <td>10</td>\n",
       "      <td>인간의 부주의</td>\n",
       "      <td>30.00</td>\n",
       "    </tr>\n",
       "    <tr>\n",
       "      <th>2</th>\n",
       "      <td>2</td>\n",
       "      <td>0</td>\n",
       "      <td>15~18</td>\n",
       "      <td>홍천군</td>\n",
       "      <td>산중턱</td>\n",
       "      <td>구름많음</td>\n",
       "      <td>-2</td>\n",
       "      <td>29</td>\n",
       "      <td>인간의 부주의</td>\n",
       "      <td>0.30</td>\n",
       "    </tr>\n",
       "    <tr>\n",
       "      <th>3</th>\n",
       "      <td>2</td>\n",
       "      <td>1</td>\n",
       "      <td>3~6</td>\n",
       "      <td>원주시</td>\n",
       "      <td>산중턱</td>\n",
       "      <td>구름많음</td>\n",
       "      <td>-6</td>\n",
       "      <td>44</td>\n",
       "      <td>인간의 부주의</td>\n",
       "      <td>0.30</td>\n",
       "    </tr>\n",
       "    <tr>\n",
       "      <th>4</th>\n",
       "      <td>2</td>\n",
       "      <td>1</td>\n",
       "      <td>15~18</td>\n",
       "      <td>원주시</td>\n",
       "      <td>산정상</td>\n",
       "      <td>맑음</td>\n",
       "      <td>14</td>\n",
       "      <td>23</td>\n",
       "      <td>인간의 부주의</td>\n",
       "      <td>0.03</td>\n",
       "    </tr>\n",
       "    <tr>\n",
       "      <th>...</th>\n",
       "      <td>...</td>\n",
       "      <td>...</td>\n",
       "      <td>...</td>\n",
       "      <td>...</td>\n",
       "      <td>...</td>\n",
       "      <td>...</td>\n",
       "      <td>...</td>\n",
       "      <td>...</td>\n",
       "      <td>...</td>\n",
       "      <td>...</td>\n",
       "    </tr>\n",
       "    <tr>\n",
       "      <th>534</th>\n",
       "      <td>5</td>\n",
       "      <td>1</td>\n",
       "      <td>12~15</td>\n",
       "      <td>철원군</td>\n",
       "      <td>산중턱</td>\n",
       "      <td>맑음</td>\n",
       "      <td>19</td>\n",
       "      <td>26</td>\n",
       "      <td>인간의 부주의</td>\n",
       "      <td>0.03</td>\n",
       "    </tr>\n",
       "    <tr>\n",
       "      <th>535</th>\n",
       "      <td>5</td>\n",
       "      <td>1</td>\n",
       "      <td>15~18</td>\n",
       "      <td>철원군</td>\n",
       "      <td>산정상</td>\n",
       "      <td>맑음</td>\n",
       "      <td>18</td>\n",
       "      <td>22</td>\n",
       "      <td>인간의 부주의</td>\n",
       "      <td>0.01</td>\n",
       "    </tr>\n",
       "    <tr>\n",
       "      <th>536</th>\n",
       "      <td>5</td>\n",
       "      <td>0</td>\n",
       "      <td>15~18</td>\n",
       "      <td>태백시</td>\n",
       "      <td>산중턱</td>\n",
       "      <td>맑음</td>\n",
       "      <td>23</td>\n",
       "      <td>43</td>\n",
       "      <td>기계/전기/화학 요인</td>\n",
       "      <td>1.20</td>\n",
       "    </tr>\n",
       "    <tr>\n",
       "      <th>537</th>\n",
       "      <td>6</td>\n",
       "      <td>0</td>\n",
       "      <td>15~18</td>\n",
       "      <td>강릉시</td>\n",
       "      <td>산중턱</td>\n",
       "      <td>맑음</td>\n",
       "      <td>25</td>\n",
       "      <td>62</td>\n",
       "      <td>인간의 부주의</td>\n",
       "      <td>0.01</td>\n",
       "    </tr>\n",
       "    <tr>\n",
       "      <th>538</th>\n",
       "      <td>6</td>\n",
       "      <td>0</td>\n",
       "      <td>12~15</td>\n",
       "      <td>홍천군</td>\n",
       "      <td>산정상</td>\n",
       "      <td>맑음</td>\n",
       "      <td>18</td>\n",
       "      <td>78</td>\n",
       "      <td>자연적 요인</td>\n",
       "      <td>0.04</td>\n",
       "    </tr>\n",
       "  </tbody>\n",
       "</table>\n",
       "<p>539 rows × 10 columns</p>\n",
       "</div>"
      ],
      "text/plain": [
       "     화재발생_월  주말여부 화재발생시간대 시군구명 발화지점    날씨  온도  습도       발화원인종합   피해면적\n",
       "0         1     1   21~24  강릉시  산정상    맑음  -1  30    방화 및 방화의심   0.30\n",
       "1         1     0   18~21  양양군  산아래    맑음   1  10      인간의 부주의  30.00\n",
       "2         2     0   15~18  홍천군  산중턱  구름많음  -2  29      인간의 부주의   0.30\n",
       "3         2     1     3~6  원주시  산중턱  구름많음  -6  44      인간의 부주의   0.30\n",
       "4         2     1   15~18  원주시  산정상    맑음  14  23      인간의 부주의   0.03\n",
       "..      ...   ...     ...  ...  ...   ...  ..  ..          ...    ...\n",
       "534       5     1   12~15  철원군  산중턱    맑음  19  26      인간의 부주의   0.03\n",
       "535       5     1   15~18  철원군  산정상    맑음  18  22      인간의 부주의   0.01\n",
       "536       5     0   15~18  태백시  산중턱    맑음  23  43  기계/전기/화학 요인   1.20\n",
       "537       6     0   15~18  강릉시  산중턱    맑음  25  62      인간의 부주의   0.01\n",
       "538       6     0   12~15  홍천군  산정상    맑음  18  78       자연적 요인   0.04\n",
       "\n",
       "[539 rows x 10 columns]"
      ]
     },
     "execution_count": 5,
     "metadata": {},
     "output_type": "execute_result"
    }
   ],
   "source": [
    "#분석에 필요한 변수만 남김\n",
    "data"
   ]
  },
  {
   "cell_type": "code",
   "execution_count": 6,
   "metadata": {
    "id": "I0Gx1UOJ-Uoi"
   },
   "outputs": [],
   "source": [
    "#Feature 와 target 나누기\n",
    "features = data[data.columns[:-1]]\n",
    "target = data[data.columns[-1]]"
   ]
  },
  {
   "cell_type": "code",
   "execution_count": 7,
   "metadata": {
    "id": "4Hx6A9MWPI3H"
   },
   "outputs": [],
   "source": [
    "# 문자열 데이터를 숫자형 데이터로 변환\n",
    "features = pd.get_dummies(data = features, columns = ['화재발생시간대'], prefix = '화재발생시간대')\n",
    "features = pd.get_dummies(data = features, columns = ['시군구명'], prefix = '시군구명')\n",
    "features = pd.get_dummies(data = features, columns = ['발화지점'], prefix = '발화지점')\n",
    "features = pd.get_dummies(data = features, columns = ['날씨'], prefix = '날씨')\n",
    "features = pd.get_dummies(data = features, columns = ['발화원인종합'], prefix = '발화원인종합')"
   ]
  },
  {
   "cell_type": "code",
   "execution_count": 8,
   "metadata": {
    "id": "hMgx866AoYod"
   },
   "outputs": [],
   "source": [
    "#Data split: Train,test\n",
    "from sklearn.model_selection import train_test_split\n",
    "X_train, X_test, y_train, y_test = train_test_split(\n",
    "    features, target, test_size=0.2,random_state = 22)"
   ]
  },
  {
   "cell_type": "code",
   "execution_count": 9,
   "metadata": {
    "colab": {
     "base_uri": "https://localhost:8080/"
    },
    "id": "rJLJ0qgBACRw",
    "outputId": "416d0e2b-8266-49e7-e27c-25a1b736d803"
   },
   "outputs": [
    {
     "name": "stdout",
     "output_type": "stream",
     "text": [
      "X_train shape: (431, 46)\n",
      "y_train shape: (431,)\n"
     ]
    }
   ],
   "source": [
    "print(\"X_train shape:\", X_train.shape)\n",
    "print(\"y_train shape:\", y_train.shape)"
   ]
  },
  {
   "cell_type": "code",
   "execution_count": 10,
   "metadata": {
    "colab": {
     "base_uri": "https://localhost:8080/"
    },
    "id": "YHqUjU_8AUdq",
    "outputId": "f52f32da-8b6c-4147-8a7d-a22282aee9ed"
   },
   "outputs": [
    {
     "name": "stdout",
     "output_type": "stream",
     "text": [
      "X_test shape: (108, 46)\n",
      "y_test shape: (108,)\n"
     ]
    }
   ],
   "source": [
    "print(\"X_test shape:\", X_test.shape)\n",
    "print(\"y_test shape:\", y_test.shape)"
   ]
  },
  {
   "cell_type": "code",
   "execution_count": 11,
   "metadata": {
    "colab": {
     "base_uri": "https://localhost:8080/",
     "height": 75
    },
    "id": "4g5nKnOvFIHm",
    "outputId": "d8e1f225-db57-49b6-b0e2-62ad55bcaea1"
   },
   "outputs": [
    {
     "data": {
      "text/plain": [
       "DecisionTreeRegressor(random_state=22)"
      ]
     },
     "execution_count": 11,
     "metadata": {},
     "output_type": "execute_result"
    }
   ],
   "source": [
    "from sklearn.tree import DecisionTreeRegressor\n",
    "from sklearn.metrics import mean_squared_error\n",
    "\n",
    "model = DecisionTreeRegressor(random_state=22)\n",
    "\n",
    "model.fit(X_train, y_train)"
   ]
  },
  {
   "cell_type": "code",
   "execution_count": 12,
   "metadata": {
    "id": "DCQc_9gQKcEL"
   },
   "outputs": [],
   "source": [
    "y_train_hat = model.predict(X_train)\n",
    "y_test_hat = model.predict(X_test)"
   ]
  },
  {
   "cell_type": "code",
   "execution_count": 13,
   "metadata": {
    "colab": {
     "base_uri": "https://localhost:8080/"
    },
    "id": "OnYhOwZjQAGo",
    "outputId": "0f975c03-b06c-4c01-acb8-6444338f2007"
   },
   "outputs": [
    {
     "name": "stdout",
     "output_type": "stream",
     "text": [
      "RMSE on training set: 2.855703028628603e-18\n",
      "RMSE on test set: 26.519992441063664\n"
     ]
    }
   ],
   "source": [
    "# 모델 성능 평가 결과 training set에 대해서는 성능이 우수하나 test set에 대해서는  성능이 떨어지는 overfitting의 양상을 보임\n",
    "from sklearn.metrics import mean_squared_error\n",
    "import numpy as np\n",
    "\n",
    "rmse_train = np.sqrt(mean_squared_error(y_train, y_train_hat))\n",
    "rmse_test = np.sqrt(mean_squared_error(y_test, y_test_hat))\n",
    "\n",
    "print(\"RMSE on training set:\", rmse_train)\n",
    "print(\"RMSE on test set:\", rmse_test)\n"
   ]
  },
  {
   "cell_type": "code",
   "execution_count": 14,
   "metadata": {},
   "outputs": [
    {
     "name": "stdout",
     "output_type": "stream",
     "text": [
      "R² Score: -0.042342255942229734\n"
     ]
    }
   ],
   "source": [
    "from sklearn.metrics import r2_score\n",
    "r2 = r2_score(y_test, y_test_hat)\n",
    "print(\"R² Score:\", r2)"
   ]
  },
  {
   "cell_type": "code",
   "execution_count": 15,
   "metadata": {
    "colab": {
     "base_uri": "https://localhost:8080/"
    },
    "id": "G-InyPchQ7LE",
    "outputId": "04c6da19-8d2d-46b2-9134-ffd2dc082fe8"
   },
   "outputs": [
    {
     "name": "stdout",
     "output_type": "stream",
     "text": [
      "Best hyperparameters:  {'max_depth': 2, 'min_samples_leaf': 5, 'min_samples_split': 2}\n",
      "Best score:  4647.860131072654\n"
     ]
    }
   ],
   "source": [
    "#GridSearchCV 를 통한 적절한 hyperparameter 찾기\n",
    "from sklearn.model_selection import GridSearchCV\n",
    "\n",
    "# 모델 생성\n",
    "model = DecisionTreeRegressor(random_state=22)\n",
    "\n",
    "# GridSearchCV 수행을 위한 파라미터 후보군 정의\n",
    "param_grid = {\n",
    "    'max_depth': [2, 3, 4, 5, 10, 20],\n",
    "    'min_samples_split': [2, 3, 4, 5, 12, 13, 14, 15],\n",
    "    'min_samples_leaf': [1, 2, 3, 4, 5],\n",
    "}\n",
    "\n",
    "# GridSearchCV 수행\n",
    "grid_search = GridSearchCV(model, param_grid=param_grid, cv=5, scoring='neg_mean_squared_error')\n",
    "grid_search.fit(X_train, y_train)\n",
    "\n",
    "# 최적의 하이퍼파라미터와 점수 출력\n",
    "print(\"Best hyperparameters: \", grid_search.best_params_)\n",
    "print(\"Best score: \", -grid_search.best_score_)\n"
   ]
  },
  {
   "cell_type": "code",
   "execution_count": 16,
   "metadata": {
    "colab": {
     "base_uri": "https://localhost:8080/",
     "height": 75
    },
    "id": "uja3tsgVTpui",
    "outputId": "69dd3bbb-e754-48b4-c69e-f89115a2a8af"
   },
   "outputs": [
    {
     "data": {
      "text/plain": [
       "DecisionTreeRegressor(max_depth=2, min_samples_leaf=5, random_state=22)"
      ]
     },
     "execution_count": 16,
     "metadata": {},
     "output_type": "execute_result"
    }
   ],
   "source": [
    "model = DecisionTreeRegressor(max_depth=2, min_samples_leaf=5, min_samples_split=2, random_state=22)\n",
    "model.fit(X_train, y_train)"
   ]
  },
  {
   "cell_type": "code",
   "execution_count": 17,
   "metadata": {
    "id": "2KGiqRraTsVN"
   },
   "outputs": [],
   "source": [
    "y_train_hat = model.predict(X_train)\n",
    "y_test_hat = model.predict(X_test)"
   ]
  },
  {
   "cell_type": "code",
   "execution_count": 18,
   "metadata": {
    "colab": {
     "base_uri": "https://localhost:8080/"
    },
    "id": "XeOhoJPuTyBh",
    "outputId": "c204952a-8771-4381-a861-1cd32de8b5a0"
   },
   "outputs": [
    {
     "name": "stdout",
     "output_type": "stream",
     "text": [
      "RMSE on training set: 56.3353221282203\n",
      "RMSE on test set: 36.58142122828357\n"
     ]
    }
   ],
   "source": [
    "rmse_train = np.sqrt(mean_squared_error(y_train, y_train_hat))\n",
    "rmse_test = np.sqrt(mean_squared_error(y_test, y_test_hat))\n",
    "\n",
    "print(\"RMSE on training set:\", rmse_train)\n",
    "print(\"RMSE on test set:\", rmse_test)"
   ]
  },
  {
   "cell_type": "code",
   "execution_count": 19,
   "metadata": {},
   "outputs": [
    {
     "name": "stdout",
     "output_type": "stream",
     "text": [
      "R² Score: -0.9832830528081937\n"
     ]
    }
   ],
   "source": [
    "r2 = r2_score(y_test, y_test_hat)\n",
    "print(\"R² Score:\", r2)"
   ]
  },
  {
   "cell_type": "code",
   "execution_count": 20,
   "metadata": {
    "colab": {
     "base_uri": "https://localhost:8080/",
     "height": 538
    },
    "id": "KWM1JYXIVKHD",
    "outputId": "113bd865-45aa-4723-e01c-8f66af115999"
   },
   "outputs": [
    {
     "data": {
      "image/svg+xml": [
       "<?xml version=\"1.0\" encoding=\"UTF-8\" standalone=\"no\"?>\n",
       "<!DOCTYPE svg PUBLIC \"-//W3C//DTD SVG 1.1//EN\"\n",
       " \"http://www.w3.org/Graphics/SVG/1.1/DTD/svg11.dtd\">\n",
       "<!-- Generated by graphviz version 2.50.0 (0)\n",
       " -->\n",
       "<!-- Title: Tree Pages: 1 -->\n",
       "<svg width=\"748pt\" height=\"269pt\"\n",
       " viewBox=\"0.00 0.00 748.00 269.00\" xmlns=\"http://www.w3.org/2000/svg\" xmlns:xlink=\"http://www.w3.org/1999/xlink\">\n",
       "<g id=\"graph0\" class=\"graph\" transform=\"scale(1 1) rotate(0) translate(4 265)\">\n",
       "<title>Tree</title>\n",
       "<polygon fill=\"white\" stroke=\"transparent\" points=\"-4,4 -4,-265 744,-265 744,4 -4,4\"/>\n",
       "<!-- 0 -->\n",
       "<g id=\"node1\" class=\"node\">\n",
       "<title>0</title>\n",
       "<path fill=\"#fffdfc\" stroke=\"black\" d=\"M439.5,-261C439.5,-261 284.5,-261 284.5,-261 278.5,-261 272.5,-255 272.5,-249 272.5,-249 272.5,-205 272.5,-205 272.5,-199 278.5,-193 284.5,-193 284.5,-193 439.5,-193 439.5,-193 445.5,-193 451.5,-199 451.5,-205 451.5,-205 451.5,-249 451.5,-249 451.5,-255 445.5,-261 439.5,-261\"/>\n",
       "<text text-anchor=\"start\" x=\"280.5\" y=\"-245.8\" font-family=\"Helvetica,sans-Serif\" font-size=\"14.00\">시군구명_강릉시 ≤ 0.5</text>\n",
       "<text text-anchor=\"start\" x=\"283.5\" y=\"-230.8\" font-family=\"Helvetica,sans-Serif\" font-size=\"14.00\">squared_error = 3971.192</text>\n",
       "<text text-anchor=\"start\" x=\"317\" y=\"-215.8\" font-family=\"Helvetica,sans-Serif\" font-size=\"14.00\">samples = 431</text>\n",
       "<text text-anchor=\"start\" x=\"321\" y=\"-200.8\" font-family=\"Helvetica,sans-Serif\" font-size=\"14.00\">value = 4.624</text>\n",
       "</g>\n",
       "<!-- 1 -->\n",
       "<g id=\"node2\" class=\"node\">\n",
       "<title>1</title>\n",
       "<path fill=\"#fffffe\" stroke=\"black\" d=\"M340.5,-157C340.5,-157 185.5,-157 185.5,-157 179.5,-157 173.5,-151 173.5,-145 173.5,-145 173.5,-101 173.5,-101 173.5,-95 179.5,-89 185.5,-89 185.5,-89 340.5,-89 340.5,-89 346.5,-89 352.5,-95 352.5,-101 352.5,-101 352.5,-145 352.5,-145 352.5,-151 346.5,-157 340.5,-157\"/>\n",
       "<text text-anchor=\"start\" x=\"181.5\" y=\"-141.8\" font-family=\"Helvetica,sans-Serif\" font-size=\"14.00\">시군구명_인제군 ≤ 0.5</text>\n",
       "<text text-anchor=\"start\" x=\"188.5\" y=\"-126.8\" font-family=\"Helvetica,sans-Serif\" font-size=\"14.00\">squared_error = 311.681</text>\n",
       "<text text-anchor=\"start\" x=\"218\" y=\"-111.8\" font-family=\"Helvetica,sans-Serif\" font-size=\"14.00\">samples = 396</text>\n",
       "<text text-anchor=\"start\" x=\"222\" y=\"-96.8\" font-family=\"Helvetica,sans-Serif\" font-size=\"14.00\">value = 1.497</text>\n",
       "</g>\n",
       "<!-- 0&#45;&gt;1 -->\n",
       "<g id=\"edge1\" class=\"edge\">\n",
       "<title>0&#45;&gt;1</title>\n",
       "<path fill=\"none\" stroke=\"black\" d=\"M329.86,-192.88C321.13,-183.89 311.57,-174.04 302.48,-164.68\"/>\n",
       "<polygon fill=\"black\" stroke=\"black\" points=\"304.8,-162.04 295.32,-157.3 299.77,-166.91 304.8,-162.04\"/>\n",
       "<text text-anchor=\"middle\" x=\"294.95\" y=\"-178.6\" font-family=\"Helvetica,sans-Serif\" font-size=\"14.00\">True</text>\n",
       "</g>\n",
       "<!-- 4 -->\n",
       "<g id=\"node5\" class=\"node\">\n",
       "<title>4</title>\n",
       "<path fill=\"#fbece1\" stroke=\"black\" d=\"M540,-157C540,-157 384,-157 384,-157 378,-157 372,-151 372,-145 372,-145 372,-101 372,-101 372,-95 378,-89 384,-89 384,-89 540,-89 540,-89 546,-89 552,-95 552,-101 552,-101 552,-145 552,-145 552,-151 546,-157 540,-157\"/>\n",
       "<text text-anchor=\"start\" x=\"424\" y=\"-141.8\" font-family=\"Helvetica,sans-Serif\" font-size=\"14.00\">습도 ≤ 18.0</text>\n",
       "<text text-anchor=\"start\" x=\"380\" y=\"-126.8\" font-family=\"Helvetica,sans-Serif\" font-size=\"14.00\">squared_error = 44014.113</text>\n",
       "<text text-anchor=\"start\" x=\"421\" y=\"-111.8\" font-family=\"Helvetica,sans-Serif\" font-size=\"14.00\">samples = 35</text>\n",
       "<text text-anchor=\"start\" x=\"417\" y=\"-96.8\" font-family=\"Helvetica,sans-Serif\" font-size=\"14.00\">value = 39.997</text>\n",
       "</g>\n",
       "<!-- 0&#45;&gt;4 -->\n",
       "<g id=\"edge4\" class=\"edge\">\n",
       "<title>0&#45;&gt;4</title>\n",
       "<path fill=\"none\" stroke=\"black\" d=\"M394.47,-192.88C403.29,-183.89 412.94,-174.04 422.12,-164.68\"/>\n",
       "<polygon fill=\"black\" stroke=\"black\" points=\"424.85,-166.89 429.35,-157.3 419.85,-161.99 424.85,-166.89\"/>\n",
       "<text text-anchor=\"middle\" x=\"429.6\" y=\"-178.6\" font-family=\"Helvetica,sans-Serif\" font-size=\"14.00\">False</text>\n",
       "</g>\n",
       "<!-- 2 -->\n",
       "<g id=\"node3\" class=\"node\">\n",
       "<title>2</title>\n",
       "<path fill=\"#ffffff\" stroke=\"black\" d=\"M146,-53C146,-53 12,-53 12,-53 6,-53 0,-47 0,-41 0,-41 0,-12 0,-12 0,-6 6,0 12,0 12,0 146,0 146,0 152,0 158,-6 158,-12 158,-12 158,-41 158,-41 158,-47 152,-53 146,-53\"/>\n",
       "<text text-anchor=\"start\" x=\"8\" y=\"-37.8\" font-family=\"Helvetica,sans-Serif\" font-size=\"14.00\">squared_error = 13.783</text>\n",
       "<text text-anchor=\"start\" x=\"34\" y=\"-22.8\" font-family=\"Helvetica,sans-Serif\" font-size=\"14.00\">samples = 372</text>\n",
       "<text text-anchor=\"start\" x=\"41.5\" y=\"-7.8\" font-family=\"Helvetica,sans-Serif\" font-size=\"14.00\">value = 0.65</text>\n",
       "</g>\n",
       "<!-- 1&#45;&gt;2 -->\n",
       "<g id=\"edge2\" class=\"edge\">\n",
       "<title>1&#45;&gt;2</title>\n",
       "<path fill=\"none\" stroke=\"black\" d=\"M198.65,-88.95C178.87,-78.79 157.22,-67.67 137.84,-57.72\"/>\n",
       "<polygon fill=\"black\" stroke=\"black\" points=\"139.31,-54.54 128.82,-53.09 136.12,-60.77 139.31,-54.54\"/>\n",
       "</g>\n",
       "<!-- 3 -->\n",
       "<g id=\"node4\" class=\"node\">\n",
       "<title>3</title>\n",
       "<path fill=\"#fef8f4\" stroke=\"black\" d=\"M337.5,-53C337.5,-53 188.5,-53 188.5,-53 182.5,-53 176.5,-47 176.5,-41 176.5,-41 176.5,-12 176.5,-12 176.5,-6 182.5,0 188.5,0 188.5,0 337.5,0 337.5,0 343.5,0 349.5,-6 349.5,-12 349.5,-12 349.5,-41 349.5,-41 349.5,-47 343.5,-53 337.5,-53\"/>\n",
       "<text text-anchor=\"start\" x=\"184.5\" y=\"-37.8\" font-family=\"Helvetica,sans-Serif\" font-size=\"14.00\">squared_error = 4745.299</text>\n",
       "<text text-anchor=\"start\" x=\"222\" y=\"-22.8\" font-family=\"Helvetica,sans-Serif\" font-size=\"14.00\">samples = 24</text>\n",
       "<text text-anchor=\"start\" x=\"218\" y=\"-7.8\" font-family=\"Helvetica,sans-Serif\" font-size=\"14.00\">value = 14.638</text>\n",
       "</g>\n",
       "<!-- 1&#45;&gt;3 -->\n",
       "<g id=\"edge3\" class=\"edge\">\n",
       "<title>1&#45;&gt;3</title>\n",
       "<path fill=\"none\" stroke=\"black\" d=\"M263,-88.95C263,-80.72 263,-71.85 263,-63.48\"/>\n",
       "<polygon fill=\"black\" stroke=\"black\" points=\"266.5,-63.24 263,-53.24 259.5,-63.24 266.5,-63.24\"/>\n",
       "</g>\n",
       "<!-- 5 -->\n",
       "<g id=\"node6\" class=\"node\">\n",
       "<title>5</title>\n",
       "<path fill=\"#e58139\" stroke=\"black\" d=\"M544,-53C544,-53 380,-53 380,-53 374,-53 368,-47 368,-41 368,-41 368,-12 368,-12 368,-6 374,0 380,0 380,0 544,0 544,0 550,0 556,-6 556,-12 556,-12 556,-41 556,-41 556,-47 550,-53 544,-53\"/>\n",
       "<text text-anchor=\"start\" x=\"376\" y=\"-37.8\" font-family=\"Helvetica,sans-Serif\" font-size=\"14.00\">squared_error = 248684.972</text>\n",
       "<text text-anchor=\"start\" x=\"424.5\" y=\"-22.8\" font-family=\"Helvetica,sans-Serif\" font-size=\"14.00\">samples = 5</text>\n",
       "<text text-anchor=\"start\" x=\"421\" y=\"-7.8\" font-family=\"Helvetica,sans-Serif\" font-size=\"14.00\">value = 263.6</text>\n",
       "</g>\n",
       "<!-- 4&#45;&gt;5 -->\n",
       "<g id=\"edge5\" class=\"edge\">\n",
       "<title>4&#45;&gt;5</title>\n",
       "<path fill=\"none\" stroke=\"black\" d=\"M462,-88.95C462,-80.72 462,-71.85 462,-63.48\"/>\n",
       "<polygon fill=\"black\" stroke=\"black\" points=\"465.5,-63.24 462,-53.24 458.5,-63.24 465.5,-63.24\"/>\n",
       "</g>\n",
       "<!-- 6 -->\n",
       "<g id=\"node7\" class=\"node\">\n",
       "<title>6</title>\n",
       "<path fill=\"#fffefd\" stroke=\"black\" d=\"M728,-53C728,-53 586,-53 586,-53 580,-53 574,-47 574,-41 574,-41 574,-12 574,-12 574,-6 580,0 586,0 586,0 728,0 728,0 734,0 740,-6 740,-12 740,-12 740,-41 740,-41 740,-47 734,-53 728,-53\"/>\n",
       "<text text-anchor=\"start\" x=\"582\" y=\"-37.8\" font-family=\"Helvetica,sans-Serif\" font-size=\"14.00\">squared_error = 180.399</text>\n",
       "<text text-anchor=\"start\" x=\"616\" y=\"-22.8\" font-family=\"Helvetica,sans-Serif\" font-size=\"14.00\">samples = 30</text>\n",
       "<text text-anchor=\"start\" x=\"619.5\" y=\"-7.8\" font-family=\"Helvetica,sans-Serif\" font-size=\"14.00\">value = 2.73</text>\n",
       "</g>\n",
       "<!-- 4&#45;&gt;6 -->\n",
       "<g id=\"edge6\" class=\"edge\">\n",
       "<title>4&#45;&gt;6</title>\n",
       "<path fill=\"none\" stroke=\"black\" d=\"M530.2,-88.95C551.34,-78.7 574.51,-67.47 595.2,-57.45\"/>\n",
       "<polygon fill=\"black\" stroke=\"black\" points=\"596.73,-60.6 604.2,-53.09 593.68,-54.3 596.73,-60.6\"/>\n",
       "</g>\n",
       "</g>\n",
       "</svg>\n"
      ],
      "text/plain": [
       "<graphviz.sources.Source at 0x280335f9fa0>"
      ]
     },
     "execution_count": 20,
     "metadata": {},
     "output_type": "execute_result"
    }
   ],
   "source": [
    "#tree 시각화\n",
    "import graphviz \n",
    "from sklearn.tree import export_graphviz\n",
    "\n",
    "dot_data = export_graphviz(model, out_file=None, \n",
    "                           feature_names=X_train.columns,  \n",
    "                           filled=True, rounded=True,  \n",
    "                           special_characters=True)  \n",
    "graph = graphviz.Source(dot_data)  \n",
    "graph.render(\"tree\", format='png')  \n",
    "graph"
   ]
  },
  {
   "cell_type": "code",
   "execution_count": null,
   "metadata": {},
   "outputs": [],
   "source": []
  }
 ],
 "metadata": {
  "colab": {
   "provenance": []
  },
  "kernelspec": {
   "display_name": "Python 3 (ipykernel)",
   "language": "python",
   "name": "python3"
  },
  "language_info": {
   "codemirror_mode": {
    "name": "ipython",
    "version": 3
   },
   "file_extension": ".py",
   "mimetype": "text/x-python",
   "name": "python",
   "nbconvert_exporter": "python",
   "pygments_lexer": "ipython3",
   "version": "3.9.13"
  }
 },
 "nbformat": 4,
 "nbformat_minor": 1
}
