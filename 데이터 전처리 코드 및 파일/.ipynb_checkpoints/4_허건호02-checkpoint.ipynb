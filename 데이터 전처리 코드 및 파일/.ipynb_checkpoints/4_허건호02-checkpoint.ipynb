{
 "cells": [
  {
   "cell_type": "code",
   "execution_count": 2,
   "id": "1626ab7d",
   "metadata": {},
   "outputs": [
    {
     "ename": "FileNotFoundError",
     "evalue": "[Errno 2] No such file or directory: '4_허건호.csv'",
     "output_type": "error",
     "traceback": [
      "\u001b[0;31m---------------------------------------------------------------------------\u001b[0m",
      "\u001b[0;31mFileNotFoundError\u001b[0m                         Traceback (most recent call last)",
      "Cell \u001b[0;32mIn[2], line 6\u001b[0m\n\u001b[1;32m      2\u001b[0m \u001b[38;5;28;01mimport\u001b[39;00m \u001b[38;5;21;01mpandas\u001b[39;00m \u001b[38;5;28;01mas\u001b[39;00m \u001b[38;5;21;01mpd\u001b[39;00m\n\u001b[1;32m      4\u001b[0m pd\u001b[38;5;241m.\u001b[39mset_option(\u001b[38;5;124m'\u001b[39m\u001b[38;5;124mdisplay.max_columns\u001b[39m\u001b[38;5;124m'\u001b[39m, \u001b[38;5;28;01mNone\u001b[39;00m)\n\u001b[0;32m----> 6\u001b[0m \u001b[38;5;28;01mwith\u001b[39;00m \u001b[38;5;28;43mopen\u001b[39;49m\u001b[43m(\u001b[49m\u001b[38;5;124;43m'\u001b[39;49m\u001b[38;5;124;43m4_허건호.csv\u001b[39;49m\u001b[38;5;124;43m'\u001b[39;49m\u001b[43m,\u001b[49m\u001b[43m \u001b[49m\u001b[38;5;124;43m'\u001b[39;49m\u001b[38;5;124;43mrb\u001b[39;49m\u001b[38;5;124;43m'\u001b[39;49m\u001b[43m)\u001b[49m \u001b[38;5;28;01mas\u001b[39;00m f:\n\u001b[1;32m      7\u001b[0m     result \u001b[38;5;241m=\u001b[39m chardet\u001b[38;5;241m.\u001b[39mdetect(f\u001b[38;5;241m.\u001b[39mread())\n\u001b[1;32m      8\u001b[0m     encoding \u001b[38;5;241m=\u001b[39m result[\u001b[38;5;124m'\u001b[39m\u001b[38;5;124mencoding\u001b[39m\u001b[38;5;124m'\u001b[39m]\n",
      "File \u001b[0;32m~/anaconda3/lib/python3.10/site-packages/IPython/core/interactiveshell.py:282\u001b[0m, in \u001b[0;36m_modified_open\u001b[0;34m(file, *args, **kwargs)\u001b[0m\n\u001b[1;32m    275\u001b[0m \u001b[38;5;28;01mif\u001b[39;00m file \u001b[38;5;129;01min\u001b[39;00m {\u001b[38;5;241m0\u001b[39m, \u001b[38;5;241m1\u001b[39m, \u001b[38;5;241m2\u001b[39m}:\n\u001b[1;32m    276\u001b[0m     \u001b[38;5;28;01mraise\u001b[39;00m \u001b[38;5;167;01mValueError\u001b[39;00m(\n\u001b[1;32m    277\u001b[0m         \u001b[38;5;124mf\u001b[39m\u001b[38;5;124m\"\u001b[39m\u001b[38;5;124mIPython won\u001b[39m\u001b[38;5;124m'\u001b[39m\u001b[38;5;124mt let you open fd=\u001b[39m\u001b[38;5;132;01m{\u001b[39;00mfile\u001b[38;5;132;01m}\u001b[39;00m\u001b[38;5;124m by default \u001b[39m\u001b[38;5;124m\"\u001b[39m\n\u001b[1;32m    278\u001b[0m         \u001b[38;5;124m\"\u001b[39m\u001b[38;5;124mas it is likely to crash IPython. If you know what you are doing, \u001b[39m\u001b[38;5;124m\"\u001b[39m\n\u001b[1;32m    279\u001b[0m         \u001b[38;5;124m\"\u001b[39m\u001b[38;5;124myou can use builtins\u001b[39m\u001b[38;5;124m'\u001b[39m\u001b[38;5;124m open.\u001b[39m\u001b[38;5;124m\"\u001b[39m\n\u001b[1;32m    280\u001b[0m     )\n\u001b[0;32m--> 282\u001b[0m \u001b[38;5;28;01mreturn\u001b[39;00m \u001b[43mio_open\u001b[49m\u001b[43m(\u001b[49m\u001b[43mfile\u001b[49m\u001b[43m,\u001b[49m\u001b[43m \u001b[49m\u001b[38;5;241;43m*\u001b[39;49m\u001b[43margs\u001b[49m\u001b[43m,\u001b[49m\u001b[43m \u001b[49m\u001b[38;5;241;43m*\u001b[39;49m\u001b[38;5;241;43m*\u001b[39;49m\u001b[43mkwargs\u001b[49m\u001b[43m)\u001b[49m\n",
      "\u001b[0;31mFileNotFoundError\u001b[0m: [Errno 2] No such file or directory: '4_허건호.csv'"
     ]
    }
   ],
   "source": [
    "import chardet\n",
    "import pandas as pd\n",
    "\n",
    "pd.set_option('display.max_columns', None)\n",
    "\n",
    "with open('/Users/heogeonho/Univ/Data Mining/4_허건호.csv', 'rb') as f:\n",
    "    result = chardet.detect(f.read())\n",
    "    encoding = result['encoding']\n",
    "\n",
    "data = pd.read_csv('/Users/heogeonho/Univ/Data Mining/0_허건호.csv', encoding=encoding)\n",
    "df = data\n",
    "\n",
    "print(df.columns)"
   ]
  },
  {
   "cell_type": "code",
   "execution_count": null,
   "id": "e4ad1019",
   "metadata": {},
   "outputs": [],
   "source": [
    "# 시간 정보에 대해 모두 datetime 일자+시간 형식으로 변환 후 비교\n",
    "\n",
    "df['화재발생시간'] = pd.to_datetime(df['화재발생일자'] + ' ' + df['화재발생시간'])\n",
    "df = df.drop(columns=['화재발생일자'])\n",
    "\n",
    "df['접수시각'] = pd.to_datetime(df['접수일자'].astype(str) + ' ' + df['접수시각'].astype(str), format='%Y%m%d %H%M%S', errors='coerce')\n",
    "df = df.drop(columns=['접수일자'])\n",
    "\n",
    "df['출동시각'] = pd.to_datetime(df['출동일자'].astype(str) + ' ' + df['출동시각'].astype(str), format='%Y%m%d %H%M%S', errors='coerce')\n",
    "df = df.drop(columns=['출동일자'])\n",
    "\n",
    "df['현장도착시각'] = pd.to_datetime(df['현장도착일자'].astype(str) + ' ' + df['현장도착시각'].astype(str), format='%Y%m%d %H%M%S', errors='coerce')\n",
    "df = df.drop(columns=['현장도착일자'])\n",
    "\n",
    "df['초진시각'] = pd.to_datetime(df['초진일자'].astype(str) + ' ' + df['초진시각'].astype(str), format='%Y%m%d %H%M%S', errors='coerce')\n",
    "df = df.drop(columns=['초진일자'])\n",
    "\n",
    "df['완진시간'] = pd.to_datetime(df['완진일자'].astype(str) + ' ' + df['완진시간'].astype(str), format='%Y%m%d %H%M%S', errors='coerce')\n",
    "df = df.drop(columns=['완진일자'])"
   ]
  },
  {
   "cell_type": "code",
   "execution_count": null,
   "id": "9988d011",
   "metadata": {
    "scrolled": true
   },
   "outputs": [],
   "source": [
    "df.loc[:, ['화재발생시간', '접수시각', '출동시각', '현장도착시각', '초진시각', '완진시간']]"
   ]
  },
  {
   "cell_type": "markdown",
   "id": "1e199d13",
   "metadata": {},
   "source": [
    "확인 결과 약간의 오류가 있는 것 확인 -> 24시간 형식으로 통일된 것이 아님, 수기로 작성된 것으로 추정, 입력에서의 오류 발생 다수 발견\n",
    "<br>화재발생시간 외의 컬럼에 대한 정보력이 없을 것으로 판단하여 제거 (소요시간에 대한 정보는 초단위로 이미 존재)"
   ]
  },
  {
   "cell_type": "code",
   "execution_count": null,
   "id": "0f0cc46b",
   "metadata": {},
   "outputs": [],
   "source": [
    "df = df.drop(columns=['접수시각', '출동시각', '현장도착시각', '초진시각', '완진시간'])\n",
    "\n",
    "# 추가로 불필요한 컬럼 제거\n",
    "df = df.drop(columns=['시도명', '발화원인', '발화요인대분류명'])"
   ]
  },
  {
   "cell_type": "code",
   "execution_count": null,
   "id": "073c728c",
   "metadata": {},
   "outputs": [],
   "source": [
    "#평일 주말 구분\n",
    "df['주말여부'] = df['요일'].replace({0: 0, 1: 0, 2: 0, 3: 0, 4: 0, 5: 1, 6: 1})"
   ]
  },
  {
   "cell_type": "code",
   "execution_count": null,
   "id": "65548823",
   "metadata": {},
   "outputs": [],
   "source": [
    "print(df.columns)"
   ]
  },
  {
   "cell_type": "code",
   "execution_count": null,
   "id": "906dd958",
   "metadata": {},
   "outputs": [],
   "source": [
    "df = df.rename(columns = {'화재발생시간': '화재발생일시', '발화종합': '발화원인종합', '출동소요시간\\t': '출동소요시간', '화재발생_연도':'화재발생_연'})\n",
    "\n",
    "\n",
    "df = df.reindex(columns=['화재발생일시', '화재발생_연', '화재발생_월', '화재발생_일', '주말여부', '화재발생시간대', '시군구명',\n",
    "       '읍면동명', '발화지점', '날씨', '온도', '습도', '시간단위풍속', '특보내용', '발화원인종합', '소방서명',\n",
    "       '서센터명', '소방지역대명', '출동소요시간', '현장소방서거리', '현장안전센터거리', '현장소방지역대거리',\n",
    "       '전체인력수합계', '화재진압시간', '동원장비수', '인명피해수', '재산피해금액', '피해면적'])\n",
    "df"
   ]
  },
  {
   "cell_type": "code",
   "execution_count": null,
   "id": "42cbc734",
   "metadata": {},
   "outputs": [],
   "source": [
    "df.to_csv('4_허건호02.csv', index=False, encoding='utf-8-sig')\n",
    "df.to_excel('4_허건호02.xlsx')"
   ]
  }
 ],
 "metadata": {
  "kernelspec": {
   "display_name": "Python 3 (ipykernel)",
   "language": "python",
   "name": "python3"
  },
  "language_info": {
   "codemirror_mode": {
    "name": "ipython",
    "version": 3
   },
   "file_extension": ".py",
   "mimetype": "text/x-python",
   "name": "python",
   "nbconvert_exporter": "python",
   "pygments_lexer": "ipython3",
   "version": "3.10.9"
  }
 },
 "nbformat": 4,
 "nbformat_minor": 5
}
