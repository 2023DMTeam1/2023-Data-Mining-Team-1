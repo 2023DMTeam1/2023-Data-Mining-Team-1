{
 "cells": [
  {
   "cell_type": "code",
   "execution_count": 1,
   "id": "b9f39ccc",
   "metadata": {
    "scrolled": true
   },
   "outputs": [
    {
     "ename": "FileNotFoundError",
     "evalue": "[Errno 2] No such file or directory: '/Users/heogeonho/Univ/Data Mining/데이터 전처리/2_김시형 (2).csv'",
     "output_type": "error",
     "traceback": [
      "\u001b[0;31m---------------------------------------------------------------------------\u001b[0m",
      "\u001b[0;31mFileNotFoundError\u001b[0m                         Traceback (most recent call last)",
      "Cell \u001b[0;32mIn[1], line 6\u001b[0m\n\u001b[1;32m      2\u001b[0m \u001b[38;5;28;01mimport\u001b[39;00m \u001b[38;5;21;01mpandas\u001b[39;00m \u001b[38;5;28;01mas\u001b[39;00m \u001b[38;5;21;01mpd\u001b[39;00m\n\u001b[1;32m      4\u001b[0m pd\u001b[38;5;241m.\u001b[39mset_option(\u001b[38;5;124m'\u001b[39m\u001b[38;5;124mdisplay.max_columns\u001b[39m\u001b[38;5;124m'\u001b[39m, \u001b[38;5;28;01mNone\u001b[39;00m)\n\u001b[0;32m----> 6\u001b[0m \u001b[38;5;28;01mwith\u001b[39;00m \u001b[38;5;28;43mopen\u001b[39;49m\u001b[43m(\u001b[49m\u001b[38;5;124;43m'\u001b[39;49m\u001b[38;5;124;43m/Users/heogeonho/Univ/Data Mining/데이터 전처리/2_김시형 (2).csv\u001b[39;49m\u001b[38;5;124;43m'\u001b[39;49m\u001b[43m,\u001b[49m\u001b[43m \u001b[49m\u001b[38;5;124;43m'\u001b[39;49m\u001b[38;5;124;43mrb\u001b[39;49m\u001b[38;5;124;43m'\u001b[39;49m\u001b[43m)\u001b[49m \u001b[38;5;28;01mas\u001b[39;00m f:\n\u001b[1;32m      7\u001b[0m     result \u001b[38;5;241m=\u001b[39m chardet\u001b[38;5;241m.\u001b[39mdetect(f\u001b[38;5;241m.\u001b[39mread())\n\u001b[1;32m      8\u001b[0m     encoding \u001b[38;5;241m=\u001b[39m result[\u001b[38;5;124m'\u001b[39m\u001b[38;5;124mencoding\u001b[39m\u001b[38;5;124m'\u001b[39m]\n",
      "File \u001b[0;32m~/anaconda3/lib/python3.10/site-packages/IPython/core/interactiveshell.py:284\u001b[0m, in \u001b[0;36m_modified_open\u001b[0;34m(file, *args, **kwargs)\u001b[0m\n\u001b[1;32m    277\u001b[0m \u001b[38;5;28;01mif\u001b[39;00m file \u001b[38;5;129;01min\u001b[39;00m {\u001b[38;5;241m0\u001b[39m, \u001b[38;5;241m1\u001b[39m, \u001b[38;5;241m2\u001b[39m}:\n\u001b[1;32m    278\u001b[0m     \u001b[38;5;28;01mraise\u001b[39;00m \u001b[38;5;167;01mValueError\u001b[39;00m(\n\u001b[1;32m    279\u001b[0m         \u001b[38;5;124mf\u001b[39m\u001b[38;5;124m\"\u001b[39m\u001b[38;5;124mIPython won\u001b[39m\u001b[38;5;124m'\u001b[39m\u001b[38;5;124mt let you open fd=\u001b[39m\u001b[38;5;132;01m{\u001b[39;00mfile\u001b[38;5;132;01m}\u001b[39;00m\u001b[38;5;124m by default \u001b[39m\u001b[38;5;124m\"\u001b[39m\n\u001b[1;32m    280\u001b[0m         \u001b[38;5;124m\"\u001b[39m\u001b[38;5;124mas it is likely to crash IPython. If you know what you are doing, \u001b[39m\u001b[38;5;124m\"\u001b[39m\n\u001b[1;32m    281\u001b[0m         \u001b[38;5;124m\"\u001b[39m\u001b[38;5;124myou can use builtins\u001b[39m\u001b[38;5;124m'\u001b[39m\u001b[38;5;124m open.\u001b[39m\u001b[38;5;124m\"\u001b[39m\n\u001b[1;32m    282\u001b[0m     )\n\u001b[0;32m--> 284\u001b[0m \u001b[38;5;28;01mreturn\u001b[39;00m \u001b[43mio_open\u001b[49m\u001b[43m(\u001b[49m\u001b[43mfile\u001b[49m\u001b[43m,\u001b[49m\u001b[43m \u001b[49m\u001b[38;5;241;43m*\u001b[39;49m\u001b[43margs\u001b[49m\u001b[43m,\u001b[49m\u001b[43m \u001b[49m\u001b[38;5;241;43m*\u001b[39;49m\u001b[38;5;241;43m*\u001b[39;49m\u001b[43mkwargs\u001b[49m\u001b[43m)\u001b[49m\n",
      "\u001b[0;31mFileNotFoundError\u001b[0m: [Errno 2] No such file or directory: '/Users/heogeonho/Univ/Data Mining/데이터 전처리/2_김시형 (2).csv'"
     ]
    }
   ],
   "source": [
    "import chardet\n",
    "import pandas as pd\n",
    "\n",
    "pd.set_option('display.max_columns', None)\n",
    "\n",
    "with open('/Users/heogeonho/Univ/Data Mining/데이터 전처리/2_김시형 (2).csv', 'rb') as f:\n",
    "    result = chardet.detect(f.read())\n",
    "    encoding = result['encoding']\n",
    "\n",
    "data = pd.read_csv('/Users/heogeonho/Univ/Data Mining/데이터 전처리/2_김시형 (2).csv', encoding=encoding)\n",
    "df = data\n",
    "\n",
    "df.head(3)\n"
   ]
  },
  {
   "cell_type": "code",
   "execution_count": null,
   "id": "868c2d86",
   "metadata": {},
   "outputs": [],
   "source": [
    "df = df.drop(columns=['읍면동구분명', '번지', '도로명','발화요인소분류명'])\n",
    "df = df.rename(columns={'Unnamed: 0': 'ID'})"
   ]
  },
  {
   "cell_type": "code",
   "execution_count": null,
   "id": "8aba4887",
   "metadata": {
    "scrolled": false
   },
   "outputs": [],
   "source": [
    "#화재발생일자\n",
    "df['화재발생일자'] = pd.to_datetime(df['화재발생일자'], format='%Y%m%d')\n",
    "\n",
    "#화재발생시간\n",
    "df['화재발생시간'] = df['화재발생시간'].astype(str).str.zfill(6)\n",
    "df['화재발생시간'] = df['화재발생시간'].str[:2] + ':' + df['화재발생시간'].str[2:4] + ':' + df['화재발생시간'].str[4:]\n",
    "df['화재발생시간'] = pd.to_datetime(df['화재발생시간'], format='%H:%M:%S')\n",
    "\n",
    "#화재발생시간대\n",
    "df['화재발생시간대'] = pd.cut(df['화재발생시간'].dt.hour, bins=8, labels=['0~3', '3~6', '6~9', '9~12', '12~15', '15~18', '18~21', '21~24'])\n",
    "\n",
    "df['화재발생시간'] = df['화재발생시간'].dt.strftime('%H:%M:%S')"
   ]
  },
  {
   "cell_type": "code",
   "execution_count": null,
   "id": "3f13d34d",
   "metadata": {},
   "outputs": [],
   "source": [
    "df['요일'] = df['화재발생일자'].dt.weekday  # 월=0, 화=1, ..., 일=6 매핑"
   ]
  },
  {
   "cell_type": "code",
   "execution_count": null,
   "id": "3f672ade",
   "metadata": {},
   "outputs": [],
   "source": [
    "df['화재발생_연도'] = df['화재발생일자'].dt.year\n",
    "df['화재발생_월'] = df['화재발생일자'].dt.month\n",
    "df['화재발생_일'] = df['화재발생일자'].dt.day"
   ]
  },
  {
   "cell_type": "code",
   "execution_count": null,
   "id": "299a869e",
   "metadata": {},
   "outputs": [],
   "source": [
    "def merge_reasons(row):\n",
    "    if row['발화요인대분류명'] == '부주의' or row['발화원인'] == '입산자실화' or row['발화원인'] == '성묘객' or row['발화원인'] == '담뱃불':\n",
    "        return '인간의 부주의'\n",
    "    \n",
    "    elif row['발화요인대분류명'] == '전기적요인' or row['발화요인대분류명'] == '교통사고' or row['발화요인대분류명'] == '화학적요인' or row['발화요인대분류명'] == '기계적요인':\n",
    "        return '기계/전기/화학 요인'\n",
    "\n",
    "    elif ( row['발화원인'] == '미상' or row['발화원인'] == '기타' or row['발화원인'] == '건물') and ( row['발화요인대분류명'] == '미상' or row['발화요인대분류명'] == '기타' or row['발화요인대분류명'] == '비화'):\n",
    "        return '미상'\n",
    "    \n",
    "    elif row['발화요인대분류명'] == '방화' or row['발화요인대분류명'] == '방화의심':\n",
    "        return '방화 및 방화의심'\n",
    "    \n",
    "    elif row['발화요인대분류명'] == '자연적인요인':\n",
    "        return '자연적 요인'\n",
    "    else:\n",
    "        return '기타'\n",
    "    \n",
    "df['발화종합'] = df.apply(merge_reasons, axis=1)"
   ]
  },
  {
   "cell_type": "code",
   "execution_count": null,
   "id": "2c13b2d7",
   "metadata": {},
   "outputs": [],
   "source": [
    "count = (df['발화종합'] == '기타').sum()\n",
    "count"
   ]
  },
  {
   "cell_type": "code",
   "execution_count": null,
   "id": "7af7f12e",
   "metadata": {},
   "outputs": [],
   "source": [
    "# 컬럼 이름들을 출력합니다.\n",
    "print(df.columns)"
   ]
  },
  {
   "cell_type": "code",
   "execution_count": null,
   "id": "bfe9b1c6",
   "metadata": {},
   "outputs": [],
   "source": [
    "df = df.reindex(columns=['ID', '화재발생일자', '화재발생시간', '화재발생_연도', '화재발생_월', '화재발생_일', '요일', '화재발생시간대', '시도명', '시군구명', '읍면동명', '발화지점', '날씨', '온도',\n",
    "       '습도', '시간단위풍속', '특보내용',\n",
    "        '발화종합', '발화원인', '발화요인대분류명', '접수일자', '접수시각',\n",
    "       '소방서명', '서센터명', '소방지역대명', '출동일자', '출동시각', '현장도착일자', '현장도착시각',\n",
    "       '출동소요시간\\t', '현장소방서거리', '현장안전센터거리', '현장소방지역대거리', '초진일자', '초진시각',\n",
    "       '전체인력수합계', '완진일자', '완진시간', '화재진압시간', '동원장비수', '인명피해수', '재산피해금액', '피해면적'])\n",
    "df"
   ]
  },
  {
   "cell_type": "code",
   "execution_count": null,
   "id": "f5598e74",
   "metadata": {},
   "outputs": [],
   "source": [
    "df.to_csv('4_허건호01.csv', index=False, encoding='utf-8-sig')\n",
    "df.to_excel('4_허건호01.xlsx')"
   ]
  },
  {
   "cell_type": "code",
   "execution_count": null,
   "id": "611d2767",
   "metadata": {},
   "outputs": [],
   "source": []
  }
 ],
 "metadata": {
  "kernelspec": {
   "display_name": "Python 3 (ipykernel)",
   "language": "python",
   "name": "python3"
  },
  "language_info": {
   "codemirror_mode": {
    "name": "ipython",
    "version": 3
   },
   "file_extension": ".py",
   "mimetype": "text/x-python",
   "name": "python",
   "nbconvert_exporter": "python",
   "pygments_lexer": "ipython3",
   "version": "3.10.9"
  }
 },
 "nbformat": 4,
 "nbformat_minor": 5
}
